{
 "cells": [
  {
   "cell_type": "code",
   "execution_count": 1,
   "id": "c17dca49",
   "metadata": {},
   "outputs": [],
   "source": [
    "from ImmoBuyScraper import ImmoBuyScraper"
   ]
  },
  {
   "cell_type": "code",
   "execution_count": 2,
   "id": "5927094f",
   "metadata": {},
   "outputs": [
    {
     "name": "stderr",
     "output_type": "stream",
     "text": [
      "06-Jan-24 15:57:19 - INFO - ====== WebDriver manager ======\n",
      "06-Jan-24 15:57:20 - INFO - Get LATEST chromedriver version for google-chrome\n",
      "06-Jan-24 15:57:20 - INFO - Get LATEST chromedriver version for google-chrome\n",
      "06-Jan-24 15:57:20 - INFO - Get LATEST chromedriver version for google-chrome\n",
      "06-Jan-24 15:57:20 - INFO - WebDriver version 120.0.6099.109 selected\n",
      "06-Jan-24 15:57:20 - INFO - Modern chrome version https://edgedl.me.gvt1.com/edgedl/chrome/chrome-for-testing/120.0.6099.109/mac-x64/chromedriver-mac-x64.zip\n",
      "06-Jan-24 15:57:20 - INFO - About to download new driver from https://edgedl.me.gvt1.com/edgedl/chrome/chrome-for-testing/120.0.6099.109/mac-x64/chromedriver-mac-x64.zip\n",
      "06-Jan-24 15:57:20 - INFO - Driver downloading response is 200\n",
      "06-Jan-24 15:57:25 - INFO - Get LATEST chromedriver version for google-chrome\n",
      "06-Jan-24 15:57:25 - INFO - Driver has been saved in cache [/Users/ruihaoqiu/.wdm/drivers/chromedriver/mac64/120.0.6099.109]\n"
     ]
    }
   ],
   "source": [
    "url = 'https://www.immobilienscout24.de/Suche/de/bayern/muenchen/wohnung-kaufen?enteredFrom=one_step_search'\n",
    "scraper = ImmoBuyScraper(url=url)"
   ]
  },
  {
   "cell_type": "code",
   "execution_count": 3,
   "id": "8ca6d6be",
   "metadata": {},
   "outputs": [
    {
     "name": "stderr",
     "output_type": "stream",
     "text": [
      "100%|██████████████████████████████████████████████████████████████████████████████████████████████| 4/4 [00:00<00:00, 755.70it/s]\n"
     ]
    }
   ],
   "source": [
    "## load history links\n",
    "history_links = scraper.load_history_links()"
   ]
  },
  {
   "cell_type": "code",
   "execution_count": 4,
   "id": "4ee385cd",
   "metadata": {},
   "outputs": [
    {
     "name": "stderr",
     "output_type": "stream",
     "text": [
      "06-Jan-24 15:58:17 - INFO - Current page: 1, Total pages:134,Number of Links: 114, Total links: 114\n",
      "06-Jan-24 15:58:27 - INFO - Current page: 2, Total pages:134,Number of Links: 61, Total links: 175\n",
      "06-Jan-24 15:58:33 - INFO - Current page: 3, Total pages:134,Number of Links: 45, Total links: 220\n",
      "06-Jan-24 15:58:42 - INFO - Current page: 4, Total pages:134,Number of Links: 43, Total links: 263\n",
      "06-Jan-24 15:58:49 - INFO - Current page: 5, Total pages:134,Number of Links: 50, Total links: 313\n",
      "06-Jan-24 15:58:53 - INFO - Current page: 6, Total pages:134,Number of Links: 25, Total links: 338\n",
      "06-Jan-24 15:59:02 - INFO - Current page: 7, Total pages:134,Number of Links: 51, Total links: 389\n",
      "06-Jan-24 15:59:08 - INFO - Current page: 8, Total pages:134,Number of Links: 38, Total links: 427\n",
      "06-Jan-24 15:59:20 - INFO - Current page: 9, Total pages:134,Number of Links: 77, Total links: 504\n",
      "06-Jan-24 15:59:24 - INFO - Current page: 10, Total pages:134,Number of Links: 20, Total links: 524\n",
      "06-Jan-24 15:59:27 - INFO - Current page: 11, Total pages:134,Number of Links: 19, Total links: 543\n",
      "06-Jan-24 15:59:30 - INFO - Current page: 12, Total pages:134,Number of Links: 20, Total links: 563\n",
      "06-Jan-24 15:59:34 - INFO - Current page: 13, Total pages:134,Number of Links: 19, Total links: 582\n",
      "06-Jan-24 15:59:37 - INFO - Current page: 14, Total pages:134,Number of Links: 19, Total links: 601\n",
      "06-Jan-24 15:59:40 - INFO - Current page: 15, Total pages:134,Number of Links: 19, Total links: 620\n",
      "06-Jan-24 15:59:44 - INFO - Current page: 16, Total pages:134,Number of Links: 19, Total links: 639\n",
      "06-Jan-24 15:59:49 - INFO - Current page: 17, Total pages:134,Number of Links: 31, Total links: 670\n",
      "06-Jan-24 15:59:52 - INFO - Current page: 18, Total pages:134,Number of Links: 20, Total links: 690\n",
      "06-Jan-24 15:59:56 - INFO - Current page: 19, Total pages:134,Number of Links: 20, Total links: 710\n",
      "06-Jan-24 15:59:59 - INFO - Current page: 20, Total pages:134,Number of Links: 18, Total links: 728\n",
      "06-Jan-24 16:00:02 - INFO - Current page: 21, Total pages:134,Number of Links: 20, Total links: 748\n",
      "06-Jan-24 16:00:06 - INFO - Current page: 22, Total pages:134,Number of Links: 20, Total links: 768\n",
      "06-Jan-24 16:00:09 - INFO - Current page: 23, Total pages:134,Number of Links: 20, Total links: 788\n",
      "06-Jan-24 16:00:16 - INFO - Current page: 24, Total pages:134,Number of Links: 42, Total links: 830\n",
      "06-Jan-24 16:00:20 - INFO - Current page: 25, Total pages:134,Number of Links: 20, Total links: 850\n",
      "06-Jan-24 16:00:23 - INFO - Current page: 26, Total pages:134,Number of Links: 20, Total links: 870\n",
      "06-Jan-24 16:00:26 - INFO - Current page: 27, Total pages:134,Number of Links: 20, Total links: 890\n",
      "06-Jan-24 16:00:30 - INFO - Current page: 28, Total pages:134,Number of Links: 20, Total links: 910\n",
      "06-Jan-24 16:00:33 - INFO - Current page: 29, Total pages:134,Number of Links: 20, Total links: 930\n",
      "06-Jan-24 16:00:37 - INFO - Current page: 30, Total pages:134,Number of Links: 22, Total links: 952\n",
      "06-Jan-24 16:00:41 - INFO - Current page: 31, Total pages:134,Number of Links: 25, Total links: 977\n",
      "06-Jan-24 16:00:44 - INFO - Current page: 32, Total pages:134,Number of Links: 20, Total links: 997\n",
      "06-Jan-24 16:00:48 - INFO - Current page: 33, Total pages:134,Number of Links: 21, Total links: 1018\n",
      "06-Jan-24 16:00:51 - INFO - Current page: 34, Total pages:134,Number of Links: 20, Total links: 1038\n",
      "06-Jan-24 16:00:54 - INFO - Current page: 35, Total pages:134,Number of Links: 19, Total links: 1057\n",
      "06-Jan-24 16:00:58 - INFO - Current page: 36, Total pages:134,Number of Links: 18, Total links: 1075\n",
      "06-Jan-24 16:01:01 - INFO - Current page: 37, Total pages:134,Number of Links: 20, Total links: 1095\n",
      "06-Jan-24 16:01:06 - INFO - Current page: 38, Total pages:134,Number of Links: 32, Total links: 1127\n",
      "06-Jan-24 16:01:09 - INFO - Current page: 39, Total pages:134,Number of Links: 19, Total links: 1146\n",
      "06-Jan-24 16:01:13 - INFO - Current page: 40, Total pages:134,Number of Links: 19, Total links: 1165\n",
      "06-Jan-24 16:01:16 - INFO - Current page: 41, Total pages:134,Number of Links: 17, Total links: 1182\n",
      "06-Jan-24 16:01:20 - INFO - Current page: 42, Total pages:134,Number of Links: 19, Total links: 1201\n",
      "06-Jan-24 16:01:23 - INFO - Current page: 43, Total pages:134,Number of Links: 20, Total links: 1221\n",
      "06-Jan-24 16:01:26 - INFO - Current page: 44, Total pages:134,Number of Links: 20, Total links: 1241\n",
      "06-Jan-24 16:01:30 - INFO - Current page: 45, Total pages:134,Number of Links: 19, Total links: 1260\n",
      "06-Jan-24 16:01:33 - INFO - Current page: 46, Total pages:134,Number of Links: 20, Total links: 1280\n",
      "06-Jan-24 16:01:37 - INFO - Current page: 47, Total pages:134,Number of Links: 20, Total links: 1300\n",
      "06-Jan-24 16:01:40 - INFO - Current page: 48, Total pages:134,Number of Links: 19, Total links: 1319\n",
      "06-Jan-24 16:01:43 - INFO - Current page: 49, Total pages:134,Number of Links: 19, Total links: 1338\n",
      "06-Jan-24 16:01:47 - INFO - Current page: 50, Total pages:134,Number of Links: 20, Total links: 1358\n",
      "06-Jan-24 16:01:50 - INFO - Current page: 51, Total pages:134,Number of Links: 18, Total links: 1376\n",
      "06-Jan-24 16:01:54 - INFO - Current page: 52, Total pages:134,Number of Links: 17, Total links: 1393\n",
      "06-Jan-24 16:01:57 - INFO - Current page: 53, Total pages:134,Number of Links: 20, Total links: 1413\n",
      "06-Jan-24 16:02:00 - INFO - Current page: 54, Total pages:134,Number of Links: 20, Total links: 1433\n",
      "06-Jan-24 16:02:04 - INFO - Current page: 55, Total pages:134,Number of Links: 19, Total links: 1452\n",
      "06-Jan-24 16:02:07 - INFO - Current page: 56, Total pages:134,Number of Links: 22, Total links: 1474\n",
      "06-Jan-24 16:02:11 - INFO - Current page: 57, Total pages:134,Number of Links: 22, Total links: 1496\n",
      "06-Jan-24 16:02:14 - INFO - Current page: 58, Total pages:134,Number of Links: 20, Total links: 1516\n",
      "06-Jan-24 16:02:18 - INFO - Current page: 59, Total pages:134,Number of Links: 22, Total links: 1538\n",
      "06-Jan-24 16:02:24 - INFO - Current page: 60, Total pages:134,Number of Links: 40, Total links: 1578\n",
      "06-Jan-24 16:02:28 - INFO - Current page: 61, Total pages:134,Number of Links: 22, Total links: 1600\n",
      "06-Jan-24 16:02:33 - INFO - Current page: 62, Total pages:134,Number of Links: 24, Total links: 1624\n",
      "06-Jan-24 16:02:36 - INFO - Current page: 63, Total pages:134,Number of Links: 20, Total links: 1644\n",
      "06-Jan-24 16:02:40 - INFO - Current page: 64, Total pages:134,Number of Links: 20, Total links: 1664\n",
      "06-Jan-24 16:02:43 - INFO - Current page: 65, Total pages:134,Number of Links: 21, Total links: 1685\n",
      "06-Jan-24 16:02:46 - INFO - Current page: 66, Total pages:134,Number of Links: 20, Total links: 1705\n",
      "06-Jan-24 16:02:52 - INFO - Current page: 67, Total pages:134,Number of Links: 37, Total links: 1742\n",
      "06-Jan-24 16:02:55 - INFO - Current page: 68, Total pages:134,Number of Links: 16, Total links: 1758\n",
      "06-Jan-24 16:02:59 - INFO - Current page: 69, Total pages:134,Number of Links: 21, Total links: 1779\n",
      "06-Jan-24 16:03:02 - INFO - Current page: 70, Total pages:134,Number of Links: 20, Total links: 1799\n",
      "06-Jan-24 16:03:07 - INFO - Current page: 71, Total pages:134,Number of Links: 29, Total links: 1828\n",
      "06-Jan-24 16:03:11 - INFO - Current page: 72, Total pages:134,Number of Links: 20, Total links: 1848\n",
      "06-Jan-24 16:03:15 - INFO - Current page: 73, Total pages:134,Number of Links: 28, Total links: 1876\n",
      "06-Jan-24 16:03:19 - INFO - Current page: 74, Total pages:134,Number of Links: 20, Total links: 1896\n",
      "06-Jan-24 16:03:22 - INFO - Current page: 75, Total pages:134,Number of Links: 19, Total links: 1915\n",
      "06-Jan-24 16:03:26 - INFO - Current page: 76, Total pages:134,Number of Links: 21, Total links: 1936\n",
      "06-Jan-24 16:03:29 - INFO - Current page: 77, Total pages:134,Number of Links: 20, Total links: 1956\n",
      "06-Jan-24 16:03:33 - INFO - Current page: 78, Total pages:134,Number of Links: 20, Total links: 1976\n",
      "06-Jan-24 16:03:36 - INFO - Current page: 79, Total pages:134,Number of Links: 18, Total links: 1994\n",
      "06-Jan-24 16:03:40 - INFO - Current page: 80, Total pages:134,Number of Links: 23, Total links: 2017\n",
      "06-Jan-24 16:03:43 - INFO - Current page: 81, Total pages:134,Number of Links: 21, Total links: 2038\n",
      "06-Jan-24 16:03:47 - INFO - Current page: 82, Total pages:134,Number of Links: 23, Total links: 2061\n"
     ]
    },
    {
     "name": "stderr",
     "output_type": "stream",
     "text": [
      "06-Jan-24 16:03:50 - INFO - Current page: 83, Total pages:134,Number of Links: 20, Total links: 2081\n",
      "06-Jan-24 16:03:54 - INFO - Current page: 84, Total pages:134,Number of Links: 26, Total links: 2107\n",
      "06-Jan-24 16:03:58 - INFO - Current page: 85, Total pages:134,Number of Links: 19, Total links: 2126\n",
      "06-Jan-24 16:04:03 - INFO - Current page: 86, Total pages:134,Number of Links: 33, Total links: 2159\n",
      "06-Jan-24 16:04:08 - INFO - Current page: 87, Total pages:134,Number of Links: 27, Total links: 2186\n",
      "06-Jan-24 16:04:27 - INFO - Current page: 88, Total pages:134,Number of Links: 106, Total links: 2292\n",
      "06-Jan-24 16:04:31 - INFO - Current page: 89, Total pages:134,Number of Links: 24, Total links: 2316\n",
      "06-Jan-24 16:04:36 - INFO - Current page: 90, Total pages:134,Number of Links: 24, Total links: 2340\n",
      "06-Jan-24 16:04:39 - INFO - Current page: 91, Total pages:134,Number of Links: 20, Total links: 2360\n",
      "06-Jan-24 16:04:43 - INFO - Current page: 92, Total pages:134,Number of Links: 20, Total links: 2380\n",
      "06-Jan-24 16:04:46 - INFO - Current page: 93, Total pages:134,Number of Links: 20, Total links: 2400\n",
      "06-Jan-24 16:04:50 - INFO - Current page: 94, Total pages:134,Number of Links: 23, Total links: 2423\n",
      "06-Jan-24 16:04:54 - INFO - Current page: 95, Total pages:134,Number of Links: 22, Total links: 2445\n",
      "06-Jan-24 16:05:00 - INFO - Current page: 96, Total pages:134,Number of Links: 31, Total links: 2476\n",
      "06-Jan-24 16:05:03 - INFO - Current page: 97, Total pages:134,Number of Links: 20, Total links: 2496\n",
      "06-Jan-24 16:05:08 - INFO - Current page: 98, Total pages:134,Number of Links: 30, Total links: 2526\n",
      "06-Jan-24 16:05:12 - INFO - Current page: 99, Total pages:134,Number of Links: 22, Total links: 2548\n",
      "06-Jan-24 16:05:16 - INFO - Current page: 100, Total pages:134,Number of Links: 24, Total links: 2572\n",
      "06-Jan-24 16:05:20 - INFO - Current page: 101, Total pages:134,Number of Links: 20, Total links: 2592\n",
      "06-Jan-24 16:05:23 - INFO - Current page: 102, Total pages:134,Number of Links: 23, Total links: 2615\n",
      "06-Jan-24 16:05:27 - INFO - Current page: 103, Total pages:134,Number of Links: 20, Total links: 2635\n",
      "06-Jan-24 16:05:30 - INFO - Current page: 104, Total pages:134,Number of Links: 20, Total links: 2655\n",
      "06-Jan-24 16:05:34 - INFO - Current page: 105, Total pages:134,Number of Links: 19, Total links: 2674\n",
      "06-Jan-24 16:05:37 - INFO - Current page: 106, Total pages:134,Number of Links: 25, Total links: 2699\n",
      "06-Jan-24 16:05:41 - INFO - Current page: 107, Total pages:134,Number of Links: 19, Total links: 2718\n",
      "06-Jan-24 16:05:44 - INFO - Current page: 108, Total pages:134,Number of Links: 20, Total links: 2738\n",
      "06-Jan-24 16:05:48 - INFO - Current page: 109, Total pages:134,Number of Links: 18, Total links: 2756\n",
      "06-Jan-24 16:05:51 - INFO - Current page: 110, Total pages:134,Number of Links: 6, Total links: 2762\n",
      "06-Jan-24 16:05:54 - INFO - Current page: 111, Total pages:134,Number of Links: 0, Total links: 2762\n",
      "06-Jan-24 16:05:57 - INFO - Current page: 112, Total pages:134,Number of Links: 0, Total links: 2762\n",
      "06-Jan-24 16:06:00 - INFO - Current page: 113, Total pages:134,Number of Links: 0, Total links: 2762\n",
      "06-Jan-24 16:06:04 - INFO - Current page: 114, Total pages:134,Number of Links: 0, Total links: 2762\n",
      "06-Jan-24 16:06:07 - INFO - Current page: 115, Total pages:134,Number of Links: 0, Total links: 2762\n",
      "06-Jan-24 16:06:10 - INFO - Current page: 116, Total pages:134,Number of Links: 2, Total links: 2764\n",
      "06-Jan-24 16:06:13 - INFO - Current page: 117, Total pages:134,Number of Links: 0, Total links: 2764\n",
      "06-Jan-24 16:06:17 - INFO - Current page: 118, Total pages:134,Number of Links: 0, Total links: 2764\n",
      "06-Jan-24 16:06:24 - INFO - Current page: 119, Total pages:134,Number of Links: 28, Total links: 2792\n",
      "06-Jan-24 16:06:27 - INFO - Current page: 120, Total pages:134,Number of Links: 1, Total links: 2793\n",
      "06-Jan-24 16:06:30 - INFO - Current page: 121, Total pages:134,Number of Links: 3, Total links: 2796\n",
      "06-Jan-24 16:06:36 - INFO - Current page: 122, Total pages:134,Number of Links: 20, Total links: 2816\n",
      "06-Jan-24 16:06:40 - INFO - Current page: 123, Total pages:134,Number of Links: 10, Total links: 2826\n",
      "06-Jan-24 16:06:44 - INFO - Current page: 124, Total pages:134,Number of Links: 8, Total links: 2834\n",
      "06-Jan-24 16:06:47 - INFO - Current page: 125, Total pages:134,Number of Links: 3, Total links: 2837\n",
      "06-Jan-24 16:06:50 - INFO - Current page: 126, Total pages:134,Number of Links: 1, Total links: 2838\n",
      "06-Jan-24 16:06:54 - INFO - Current page: 127, Total pages:134,Number of Links: 6, Total links: 2844\n",
      "06-Jan-24 16:06:57 - INFO - Current page: 128, Total pages:134,Number of Links: 1, Total links: 2845\n",
      "06-Jan-24 16:07:02 - INFO - Current page: 129, Total pages:134,Number of Links: 10, Total links: 2855\n",
      "06-Jan-24 16:07:06 - INFO - Current page: 130, Total pages:134,Number of Links: 8, Total links: 2863\n",
      "06-Jan-24 16:07:10 - INFO - Current page: 131, Total pages:134,Number of Links: 5, Total links: 2868\n",
      "06-Jan-24 16:07:13 - INFO - Current page: 132, Total pages:134,Number of Links: 8, Total links: 2876\n",
      "06-Jan-24 16:07:17 - INFO - Current page: 133, Total pages:134,Number of Links: 6, Total links: 2882\n",
      "06-Jan-24 16:07:21 - INFO - Current page: 134, Total pages:134,Number of Links: 12, Total links: 2894\n"
     ]
    }
   ],
   "source": [
    "scraper.extract_all_links()"
   ]
  },
  {
   "cell_type": "code",
   "execution_count": 5,
   "id": "d287d6b9",
   "metadata": {},
   "outputs": [],
   "source": [
    "new_links = list(set(scraper.links) - set(history_links))"
   ]
  },
  {
   "cell_type": "code",
   "execution_count": 7,
   "id": "788e0bbc",
   "metadata": {},
   "outputs": [],
   "source": [
    "scraper.save_new_links(new_links)"
   ]
  },
  {
   "cell_type": "markdown",
   "id": "e5d19bdb",
   "metadata": {},
   "source": [
    "### Extract data"
   ]
  },
  {
   "cell_type": "code",
   "execution_count": 50,
   "id": "634e3094",
   "metadata": {},
   "outputs": [],
   "source": [
    "## Crawl data\n",
    "new_links = scraper.load_links(\"data/immo24/buy/links/links_20231219.json\")"
   ]
  },
  {
   "cell_type": "code",
   "execution_count": 8,
   "id": "0af6f861",
   "metadata": {},
   "outputs": [
    {
     "name": "stderr",
     "output_type": "stream",
     "text": [
      " 93%|████████████████████████████████████████████████████████████████████████████████████▉      | 322/345 [54:37<03:54, 10.18s/it]\n"
     ]
    },
    {
     "ename": "TimeoutException",
     "evalue": "Message: timeout: Timed out receiving message from renderer: 300.000\n  (Session info: chrome=120.0.6099.199)\nStacktrace:\n0   chromedriver                        0x0000000107f80cc8 chromedriver + 4844744\n1   chromedriver                        0x0000000107f78243 chromedriver + 4809283\n2   chromedriver                        0x0000000107b4677d chromedriver + 411517\n3   chromedriver                        0x0000000107b2bc6d chromedriver + 302189\n4   chromedriver                        0x0000000107b2bad8 chromedriver + 301784\n5   chromedriver                        0x0000000107b2a1a5 chromedriver + 295333\n6   chromedriver                        0x0000000107b2a989 chromedriver + 297353\n7   chromedriver                        0x0000000107b3b7ac chromedriver + 366508\n8   chromedriver                        0x0000000107b54498 chromedriver + 468120\n9   chromedriver                        0x0000000107b5a7fb chromedriver + 493563\n10  chromedriver                        0x0000000107b2b076 chromedriver + 299126\n11  chromedriver                        0x0000000107b542d8 chromedriver + 467672\n12  chromedriver                        0x0000000107bdff3e chromedriver + 1040190\n13  chromedriver                        0x0000000107bc0a63 chromedriver + 911971\n14  chromedriver                        0x0000000107b881b3 chromedriver + 680371\n15  chromedriver                        0x0000000107b897ce chromedriver + 686030\n16  chromedriver                        0x0000000107f40642 chromedriver + 4580930\n17  chromedriver                        0x0000000107f459cc chromedriver + 4602316\n18  chromedriver                        0x0000000107f25e11 chromedriver + 4472337\n19  chromedriver                        0x0000000107f46746 chromedriver + 4605766\n20  chromedriver                        0x0000000107f1739c chromedriver + 4412316\n21  chromedriver                        0x0000000107f66868 chromedriver + 4737128\n22  chromedriver                        0x0000000107f66a1e chromedriver + 4737566\n23  chromedriver                        0x0000000107f77e83 chromedriver + 4808323\n24  libsystem_pthread.dylib             0x00007ff81a11c1d3 _pthread_start + 125\n25  libsystem_pthread.dylib             0x00007ff81a117bd3 thread_start + 15\n",
     "output_type": "error",
     "traceback": [
      "\u001b[0;31m---------------------------------------------------------------------------\u001b[0m",
      "\u001b[0;31mTimeoutException\u001b[0m                          Traceback (most recent call last)",
      "Input \u001b[0;32mIn [8]\u001b[0m, in \u001b[0;36m<cell line: 1>\u001b[0;34m()\u001b[0m\n\u001b[0;32m----> 1\u001b[0m \u001b[43mscraper\u001b[49m\u001b[38;5;241;43m.\u001b[39;49m\u001b[43mextract_all_data\u001b[49m\u001b[43m(\u001b[49m\u001b[43mnew_links\u001b[49m\u001b[43m)\u001b[49m\n",
      "File \u001b[0;32m~/Documents/Personal projects/Xhouse/ImmoBuyScraper.py:130\u001b[0m, in \u001b[0;36mImmoBuyScraper.extract_all_data\u001b[0;34m(self, links)\u001b[0m\n\u001b[1;32m    128\u001b[0m \u001b[38;5;28;01mfor\u001b[39;00m link \u001b[38;5;129;01min\u001b[39;00m tqdm(links):\n\u001b[1;32m    129\u001b[0m     \u001b[38;5;28;01mtry\u001b[39;00m:\n\u001b[0;32m--> 130\u001b[0m         \u001b[38;5;28mself\u001b[39m\u001b[38;5;241m.\u001b[39mdata\u001b[38;5;241m.\u001b[39mappend(\u001b[38;5;28;43mself\u001b[39;49m\u001b[38;5;241;43m.\u001b[39;49m\u001b[43mextract_data_from_url\u001b[49m\u001b[43m(\u001b[49m\u001b[43mlink\u001b[49m\u001b[43m)\u001b[49m)\n\u001b[1;32m    131\u001b[0m         time\u001b[38;5;241m.\u001b[39msleep(randint(\u001b[38;5;241m2\u001b[39m, \u001b[38;5;241m5\u001b[39m))\n\u001b[1;32m    132\u001b[0m     \u001b[38;5;28;01mexcept\u001b[39;00m NoSuchElementException:\n",
      "File \u001b[0;32m~/Documents/Personal projects/Xhouse/ImmoBuyScraper.py:122\u001b[0m, in \u001b[0;36mImmoBuyScraper.extract_data_from_url\u001b[0;34m(self, url)\u001b[0m\n\u001b[1;32m    120\u001b[0m data[\u001b[38;5;124m\"\u001b[39m\u001b[38;5;124mTitle\u001b[39m\u001b[38;5;124m\"\u001b[39m] \u001b[38;5;241m=\u001b[39m \u001b[38;5;28mself\u001b[39m\u001b[38;5;241m.\u001b[39mdriver\u001b[38;5;241m.\u001b[39mfind_element(By\u001b[38;5;241m.\u001b[39mID, \u001b[38;5;124m\"\u001b[39m\u001b[38;5;124mexpose-title\u001b[39m\u001b[38;5;124m\"\u001b[39m)\u001b[38;5;241m.\u001b[39mtext\n\u001b[1;32m    121\u001b[0m data[\u001b[38;5;124m\"\u001b[39m\u001b[38;5;124mAddress\u001b[39m\u001b[38;5;124m\"\u001b[39m] \u001b[38;5;241m=\u001b[39m \u001b[38;5;28mself\u001b[39m\u001b[38;5;241m.\u001b[39mdriver\u001b[38;5;241m.\u001b[39mfind_element(By\u001b[38;5;241m.\u001b[39mCLASS_NAME, \u001b[38;5;124m\"\u001b[39m\u001b[38;5;124maddress-block\u001b[39m\u001b[38;5;124m\"\u001b[39m)\u001b[38;5;241m.\u001b[39mtext\n\u001b[0;32m--> 122\u001b[0m data[\u001b[38;5;124m\"\u001b[39m\u001b[38;5;124mCompany\u001b[39m\u001b[38;5;124m\"\u001b[39m] \u001b[38;5;241m=\u001b[39m \u001b[38;5;28;43mself\u001b[39;49m\u001b[38;5;241;43m.\u001b[39;49m\u001b[43mget_company\u001b[49m\u001b[43m(\u001b[49m\u001b[43m)\u001b[49m\n\u001b[1;32m    123\u001b[0m data \u001b[38;5;241m=\u001b[39m \u001b[38;5;28mself\u001b[39m\u001b[38;5;241m.\u001b[39mget_label_elements(data)\n\u001b[1;32m    124\u001b[0m data \u001b[38;5;241m=\u001b[39m \u001b[38;5;28mself\u001b[39m\u001b[38;5;241m.\u001b[39mget_description_elements(data)\n",
      "File \u001b[0;32m~/Documents/Personal projects/Xhouse/ImmoBuyScraper.py:87\u001b[0m, in \u001b[0;36mImmoBuyScraper.get_company\u001b[0;34m(self)\u001b[0m\n\u001b[1;32m     85\u001b[0m \u001b[38;5;28;01mdef\u001b[39;00m \u001b[38;5;21mget_company\u001b[39m(\u001b[38;5;28mself\u001b[39m):\n\u001b[1;32m     86\u001b[0m     \u001b[38;5;28;01mtry\u001b[39;00m:\n\u001b[0;32m---> 87\u001b[0m         \u001b[38;5;28;01mreturn\u001b[39;00m \u001b[38;5;28;43mself\u001b[39;49m\u001b[38;5;241;43m.\u001b[39;49m\u001b[43mdriver\u001b[49m\u001b[38;5;241;43m.\u001b[39;49m\u001b[43mfind_element\u001b[49m\u001b[43m(\u001b[49m\u001b[43mBy\u001b[49m\u001b[38;5;241;43m.\u001b[39;49m\u001b[43mXPATH\u001b[49m\u001b[43m,\u001b[49m\u001b[43m \u001b[49m\u001b[38;5;124;43m\"\u001b[39;49m\u001b[38;5;124;43m//*[@data-qa=\u001b[39;49m\u001b[38;5;124;43m'\u001b[39;49m\u001b[38;5;124;43mcompany-name\u001b[39;49m\u001b[38;5;124;43m'\u001b[39;49m\u001b[38;5;124;43m]\u001b[39;49m\u001b[38;5;124;43m\"\u001b[39;49m\u001b[43m)\u001b[49m\u001b[38;5;241m.\u001b[39mtext\n\u001b[1;32m     88\u001b[0m     \u001b[38;5;28;01mexcept\u001b[39;00m NoSuchElementException:\n\u001b[1;32m     89\u001b[0m         \u001b[38;5;28;01mtry\u001b[39;00m:\n",
      "File \u001b[0;32m/opt/miniconda3/envs/py38/lib/python3.8/site-packages/selenium/webdriver/remote/webdriver.py:740\u001b[0m, in \u001b[0;36mWebDriver.find_element\u001b[0;34m(self, by, value)\u001b[0m\n\u001b[1;32m    737\u001b[0m     by \u001b[38;5;241m=\u001b[39m By\u001b[38;5;241m.\u001b[39mCSS_SELECTOR\n\u001b[1;32m    738\u001b[0m     value \u001b[38;5;241m=\u001b[39m \u001b[38;5;124mf\u001b[39m\u001b[38;5;124m'\u001b[39m\u001b[38;5;124m[name=\u001b[39m\u001b[38;5;124m\"\u001b[39m\u001b[38;5;132;01m{\u001b[39;00mvalue\u001b[38;5;132;01m}\u001b[39;00m\u001b[38;5;124m\"\u001b[39m\u001b[38;5;124m]\u001b[39m\u001b[38;5;124m'\u001b[39m\n\u001b[0;32m--> 740\u001b[0m \u001b[38;5;28;01mreturn\u001b[39;00m \u001b[38;5;28;43mself\u001b[39;49m\u001b[38;5;241;43m.\u001b[39;49m\u001b[43mexecute\u001b[49m\u001b[43m(\u001b[49m\u001b[43mCommand\u001b[49m\u001b[38;5;241;43m.\u001b[39;49m\u001b[43mFIND_ELEMENT\u001b[49m\u001b[43m,\u001b[49m\u001b[43m \u001b[49m\u001b[43m{\u001b[49m\u001b[38;5;124;43m\"\u001b[39;49m\u001b[38;5;124;43musing\u001b[39;49m\u001b[38;5;124;43m\"\u001b[39;49m\u001b[43m:\u001b[49m\u001b[43m \u001b[49m\u001b[43mby\u001b[49m\u001b[43m,\u001b[49m\u001b[43m \u001b[49m\u001b[38;5;124;43m\"\u001b[39;49m\u001b[38;5;124;43mvalue\u001b[39;49m\u001b[38;5;124;43m\"\u001b[39;49m\u001b[43m:\u001b[49m\u001b[43m \u001b[49m\u001b[43mvalue\u001b[49m\u001b[43m}\u001b[49m\u001b[43m)\u001b[49m[\u001b[38;5;124m\"\u001b[39m\u001b[38;5;124mvalue\u001b[39m\u001b[38;5;124m\"\u001b[39m]\n",
      "File \u001b[0;32m/opt/miniconda3/envs/py38/lib/python3.8/site-packages/selenium/webdriver/remote/webdriver.py:346\u001b[0m, in \u001b[0;36mWebDriver.execute\u001b[0;34m(self, driver_command, params)\u001b[0m\n\u001b[1;32m    344\u001b[0m response \u001b[38;5;241m=\u001b[39m \u001b[38;5;28mself\u001b[39m\u001b[38;5;241m.\u001b[39mcommand_executor\u001b[38;5;241m.\u001b[39mexecute(driver_command, params)\n\u001b[1;32m    345\u001b[0m \u001b[38;5;28;01mif\u001b[39;00m response:\n\u001b[0;32m--> 346\u001b[0m     \u001b[38;5;28;43mself\u001b[39;49m\u001b[38;5;241;43m.\u001b[39;49m\u001b[43merror_handler\u001b[49m\u001b[38;5;241;43m.\u001b[39;49m\u001b[43mcheck_response\u001b[49m\u001b[43m(\u001b[49m\u001b[43mresponse\u001b[49m\u001b[43m)\u001b[49m\n\u001b[1;32m    347\u001b[0m     response[\u001b[38;5;124m\"\u001b[39m\u001b[38;5;124mvalue\u001b[39m\u001b[38;5;124m\"\u001b[39m] \u001b[38;5;241m=\u001b[39m \u001b[38;5;28mself\u001b[39m\u001b[38;5;241m.\u001b[39m_unwrap_value(response\u001b[38;5;241m.\u001b[39mget(\u001b[38;5;124m\"\u001b[39m\u001b[38;5;124mvalue\u001b[39m\u001b[38;5;124m\"\u001b[39m, \u001b[38;5;28;01mNone\u001b[39;00m))\n\u001b[1;32m    348\u001b[0m     \u001b[38;5;28;01mreturn\u001b[39;00m response\n",
      "File \u001b[0;32m/opt/miniconda3/envs/py38/lib/python3.8/site-packages/selenium/webdriver/remote/errorhandler.py:229\u001b[0m, in \u001b[0;36mErrorHandler.check_response\u001b[0;34m(self, response)\u001b[0m\n\u001b[1;32m    227\u001b[0m         alert_text \u001b[38;5;241m=\u001b[39m value[\u001b[38;5;124m\"\u001b[39m\u001b[38;5;124malert\u001b[39m\u001b[38;5;124m\"\u001b[39m]\u001b[38;5;241m.\u001b[39mget(\u001b[38;5;124m\"\u001b[39m\u001b[38;5;124mtext\u001b[39m\u001b[38;5;124m\"\u001b[39m)\n\u001b[1;32m    228\u001b[0m     \u001b[38;5;28;01mraise\u001b[39;00m exception_class(message, screen, stacktrace, alert_text)  \u001b[38;5;66;03m# type: ignore[call-arg]  # mypy is not smart enough here\u001b[39;00m\n\u001b[0;32m--> 229\u001b[0m \u001b[38;5;28;01mraise\u001b[39;00m exception_class(message, screen, stacktrace)\n",
      "\u001b[0;31mTimeoutException\u001b[0m: Message: timeout: Timed out receiving message from renderer: 300.000\n  (Session info: chrome=120.0.6099.199)\nStacktrace:\n0   chromedriver                        0x0000000107f80cc8 chromedriver + 4844744\n1   chromedriver                        0x0000000107f78243 chromedriver + 4809283\n2   chromedriver                        0x0000000107b4677d chromedriver + 411517\n3   chromedriver                        0x0000000107b2bc6d chromedriver + 302189\n4   chromedriver                        0x0000000107b2bad8 chromedriver + 301784\n5   chromedriver                        0x0000000107b2a1a5 chromedriver + 295333\n6   chromedriver                        0x0000000107b2a989 chromedriver + 297353\n7   chromedriver                        0x0000000107b3b7ac chromedriver + 366508\n8   chromedriver                        0x0000000107b54498 chromedriver + 468120\n9   chromedriver                        0x0000000107b5a7fb chromedriver + 493563\n10  chromedriver                        0x0000000107b2b076 chromedriver + 299126\n11  chromedriver                        0x0000000107b542d8 chromedriver + 467672\n12  chromedriver                        0x0000000107bdff3e chromedriver + 1040190\n13  chromedriver                        0x0000000107bc0a63 chromedriver + 911971\n14  chromedriver                        0x0000000107b881b3 chromedriver + 680371\n15  chromedriver                        0x0000000107b897ce chromedriver + 686030\n16  chromedriver                        0x0000000107f40642 chromedriver + 4580930\n17  chromedriver                        0x0000000107f459cc chromedriver + 4602316\n18  chromedriver                        0x0000000107f25e11 chromedriver + 4472337\n19  chromedriver                        0x0000000107f46746 chromedriver + 4605766\n20  chromedriver                        0x0000000107f1739c chromedriver + 4412316\n21  chromedriver                        0x0000000107f66868 chromedriver + 4737128\n22  chromedriver                        0x0000000107f66a1e chromedriver + 4737566\n23  chromedriver                        0x0000000107f77e83 chromedriver + 4808323\n24  libsystem_pthread.dylib             0x00007ff81a11c1d3 _pthread_start + 125\n25  libsystem_pthread.dylib             0x00007ff81a117bd3 thread_start + 15\n"
     ]
    }
   ],
   "source": [
    "scraper.extract_all_data(new_links)"
   ]
  },
  {
   "cell_type": "code",
   "execution_count": 9,
   "id": "24648988",
   "metadata": {},
   "outputs": [],
   "source": [
    "scraper.save_data()"
   ]
  },
  {
   "cell_type": "code",
   "execution_count": null,
   "id": "b111f9d0",
   "metadata": {},
   "outputs": [],
   "source": []
  }
 ],
 "metadata": {
  "kernelspec": {
   "display_name": "py38",
   "language": "python",
   "name": "py38"
  },
  "language_info": {
   "codemirror_mode": {
    "name": "ipython",
    "version": 3
   },
   "file_extension": ".py",
   "mimetype": "text/x-python",
   "name": "python",
   "nbconvert_exporter": "python",
   "pygments_lexer": "ipython3",
   "version": "3.8.13"
  }
 },
 "nbformat": 4,
 "nbformat_minor": 5
}
