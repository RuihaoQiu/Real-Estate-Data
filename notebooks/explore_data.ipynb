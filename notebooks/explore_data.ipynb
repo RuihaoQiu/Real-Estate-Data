{
 "cells": [
  {
   "cell_type": "code",
   "execution_count": 1,
   "id": "bfe83398",
   "metadata": {},
   "outputs": [],
   "source": [
    "import pandas as pd\n",
    "from glob import glob\n",
    "\n",
    "import re"
   ]
  },
  {
   "cell_type": "markdown",
   "id": "23308fe4",
   "metadata": {},
   "source": [
    "### Overview"
   ]
  },
  {
   "cell_type": "markdown",
   "id": "e216ec83",
   "metadata": {},
   "source": [
    "#### Munich rental market"
   ]
  },
  {
   "cell_type": "code",
   "execution_count": 120,
   "id": "b00f1d8b",
   "metadata": {},
   "outputs": [],
   "source": [
    "paths = glob(\"data/immo24/rent/processed/*\")\n",
    "df_all = pd.concat([pd.read_csv(path) for path in paths])\n",
    "\n",
    "## remove some fake providers\n",
    "df_all = df_all[~df_all.company.isin([\"Tauschwohnung GmbH\", \"Wohnungsswap.de - Lägenhetsbyte Sverige AB -\"])]"
   ]
  },
  {
   "cell_type": "code",
   "execution_count": 121,
   "id": "356a6822",
   "metadata": {},
   "outputs": [
    {
     "data": {
      "text/plain": [
       "<AxesSubplot:>"
      ]
     },
     "execution_count": 121,
     "metadata": {},
     "output_type": "execute_result"
    },
    {
     "data": {
      "image/png": "[encoded data removed]",
      "text/plain": [
       "<Figure size 432x288 with 1 Axes>"
      ]
     },
     "metadata": {
      "needs_background": "light"
     },
     "output_type": "display_data"
    }
   ],
   "source": [
    "df_all.warm_price.hist(bins=100)"
   ]
  },
  {
   "cell_type": "code",
   "execution_count": 122,
   "id": "c766e2ae",
   "metadata": {},
   "outputs": [
    {
     "data": {
      "text/plain": [
       "(2213.5922130470685, 1937.6399999999999)"
      ]
     },
     "execution_count": 122,
     "metadata": {},
     "output_type": "execute_result"
    }
   ],
   "source": [
    "df_all.warm_price.mean(), df_all.warm_price.median()"
   ]
  },
  {
   "cell_type": "code",
   "execution_count": 123,
   "id": "5aeb27d5",
   "metadata": {},
   "outputs": [
    {
     "data": {
      "text/plain": [
       "<AxesSubplot:>"
      ]
     },
     "execution_count": 123,
     "metadata": {},
     "output_type": "execute_result"
    },
    {
     "data": {
      "image/png": "[encoded data removed]",
      "text/plain": [
       "<Figure size 432x288 with 1 Axes>"
      ]
     },
     "metadata": {
      "needs_background": "light"
     },
     "output_type": "display_data"
    }
   ],
   "source": [
    "df_all.price_per_m2.hist(bins=100)"
   ]
  },
  {
   "cell_type": "code",
   "execution_count": 124,
   "id": "b17b45a4",
   "metadata": {},
   "outputs": [
    {
     "data": {
      "text/plain": [
       "(25.08167274200081, 23.48, 7.564236853113887)"
      ]
     },
     "execution_count": 124,
     "metadata": {},
     "output_type": "execute_result"
    }
   ],
   "source": [
    "df_all.price_per_m2.mean(), df_all.price_per_m2.median(), df_all.price_per_m2.std()"
   ]
  },
  {
   "cell_type": "code",
   "execution_count": 125,
   "id": "21e0deb1",
   "metadata": {},
   "outputs": [
    {
     "data": {
      "text/plain": [
       "<AxesSubplot:>"
      ]
     },
     "execution_count": 125,
     "metadata": {},
     "output_type": "execute_result"
    },
    {
     "data": {
      "image/png": "[encoded data removed]",
      "text/plain": [
       "<Figure size 432x288 with 1 Axes>"
      ]
     },
     "metadata": {
      "needs_background": "light"
     },
     "output_type": "display_data"
    }
   ],
   "source": [
    "df_all.area.hist(bins=100)"
   ]
  },
  {
   "cell_type": "code",
   "execution_count": 126,
   "id": "64a07e56",
   "metadata": {},
   "outputs": [
    {
     "data": {
      "text/plain": [
       "2.0    782\n",
       "3.0    691\n",
       "1.0    392\n",
       "4.0    255\n",
       "2.5    103\n",
       "3.5     77\n",
       "1.5     63\n",
       "5.0     58\n",
       "4.5     29\n",
       "6.0     16\n",
       "7.5      2\n",
       "9.5      1\n",
       "7.0      1\n",
       "Name: n_room, dtype: int64"
      ]
     },
     "execution_count": 126,
     "metadata": {},
     "output_type": "execute_result"
    }
   ],
   "source": [
    "df_all.n_room.value_counts()"
   ]
  },
  {
   "cell_type": "code",
   "execution_count": 127,
   "id": "15609f91",
   "metadata": {},
   "outputs": [
    {
     "data": {
      "text/plain": [
       "private                                             736\n",
       "Mr. Lodge GmbH                                      188\n",
       "KW Consult GmbH                                     108\n",
       "Inseriert auf ohne-makler.net                        63\n",
       "GWG Städtische Wohnungsgesellschaft München mbH      27\n",
       "Wohnungs- und Siedlungsbau Bayern GmbH & Co. OHG     26\n",
       "Dawonia Management GmbH                              24\n",
       "Aigner Immobilien GmbH                               24\n",
       "keine Angaben verfügbar                              24\n",
       "PÖTTINGER WOHN- & INDUSTRIEBAU GMBH & CO. KG         23\n",
       "Name: company, dtype: int64"
      ]
     },
     "execution_count": 127,
     "metadata": {},
     "output_type": "execute_result"
    }
   ],
   "source": [
    "df_all.company.value_counts()[:10]"
   ]
  },
  {
   "cell_type": "code",
   "execution_count": 128,
   "id": "97aed298",
   "metadata": {},
   "outputs": [],
   "source": [
    "def find_postcode(text):\n",
    "    match = postcode_pattern.search(str(text))\n",
    "    if match:\n",
    "        return match.group()\n",
    "    else:\n",
    "        return None"
   ]
  },
  {
   "cell_type": "code",
   "execution_count": 129,
   "id": "f8e2740a",
   "metadata": {},
   "outputs": [],
   "source": [
    "df_all[\"post_code\"] = df_all[\"std_address\"].apply(find_postcode)"
   ]
  },
  {
   "cell_type": "code",
   "execution_count": 130,
   "id": "b6954032",
   "metadata": {
    "scrolled": true
   },
   "outputs": [
    {
     "data": {
      "text/plain": [
       "81379    120\n",
       "81827     83\n",
       "81541     81\n",
       "81245     66\n",
       "81735     60\n",
       "81737     59\n",
       "81479     56\n",
       "80469     53\n",
       "81545     52\n",
       "81249     52\n",
       "80538     50\n",
       "80687     46\n",
       "81543     44\n",
       "80809     44\n",
       "81925     44\n",
       "80804     44\n",
       "81825     43\n",
       "80807     42\n",
       "80634     39\n",
       "80339     38\n",
       "Name: post_code, dtype: int64"
      ]
     },
     "execution_count": 130,
     "metadata": {},
     "output_type": "execute_result"
    }
   ],
   "source": [
    "df_all.post_code.value_counts()[:20]"
   ]
  },
  {
   "cell_type": "code",
   "execution_count": null,
   "id": "bedf748b",
   "metadata": {},
   "outputs": [],
   "source": []
  },
  {
   "cell_type": "markdown",
   "id": "f812edaf",
   "metadata": {},
   "source": [
    "#### Munich buying market"
   ]
  },
  {
   "cell_type": "code",
   "execution_count": 131,
   "id": "3f94d9b8",
   "metadata": {},
   "outputs": [],
   "source": [
    "paths = glob(\"data/immo24/buy/processed/*\")\n",
    "df_all = pd.concat([pd.read_csv(path) for path in paths])"
   ]
  },
  {
   "cell_type": "code",
   "execution_count": 132,
   "id": "a239867b",
   "metadata": {},
   "outputs": [
    {
     "data": {
      "text/plain": [
       "<AxesSubplot:>"
      ]
     },
     "execution_count": 132,
     "metadata": {},
     "output_type": "execute_result"
    },
    {
     "data": {
      "image/png": "[encoded data removed]",
      "text/plain": [
       "<Figure size 432x288 with 1 Axes>"
      ]
     },
     "metadata": {
      "needs_background": "light"
     },
     "output_type": "display_data"
    }
   ],
   "source": [
    "df_all.buy_price.hist(bins=100)"
   ]
  },
  {
   "cell_type": "code",
   "execution_count": 133,
   "id": "bf5dcdb7",
   "metadata": {},
   "outputs": [
    {
     "data": {
      "text/plain": [
       "(866612.3466759141, 650000.0)"
      ]
     },
     "execution_count": 133,
     "metadata": {},
     "output_type": "execute_result"
    }
   ],
   "source": [
    "df_all.buy_price.mean(), df_all.buy_price.median()"
   ]
  },
  {
   "cell_type": "code",
   "execution_count": 134,
   "id": "1c469fdf",
   "metadata": {},
   "outputs": [
    {
     "data": {
      "text/plain": [
       "<AxesSubplot:>"
      ]
     },
     "execution_count": 134,
     "metadata": {},
     "output_type": "execute_result"
    },
    {
     "data": {
      "image/png": "[encoded data removed]",
      "text/plain": [
       "<Figure size 432x288 with 1 Axes>"
      ]
     },
     "metadata": {
      "needs_background": "light"
     },
     "output_type": "display_data"
    }
   ],
   "source": [
    "df_all.price_per_m2.hist(bins=100)"
   ]
  },
  {
   "cell_type": "code",
   "execution_count": 135,
   "id": "afc6d624",
   "metadata": {},
   "outputs": [
    {
     "data": {
      "text/plain": [
       "(10095.892052963429, 9261.0, 3998.4845291572105)"
      ]
     },
     "execution_count": 135,
     "metadata": {},
     "output_type": "execute_result"
    }
   ],
   "source": [
    "df_all.price_per_m2.mean(), df_all.price_per_m2.median(), df_all.price_per_m2.std()"
   ]
  },
  {
   "cell_type": "code",
   "execution_count": 136,
   "id": "97fe1c11",
   "metadata": {},
   "outputs": [
    {
     "data": {
      "text/plain": [
       "<AxesSubplot:>"
      ]
     },
     "execution_count": 136,
     "metadata": {},
     "output_type": "execute_result"
    },
    {
     "data": {
      "image/png": "[encoded data removed]",
      "text/plain": [
       "<Figure size 432x288 with 1 Axes>"
      ]
     },
     "metadata": {
      "needs_background": "light"
     },
     "output_type": "display_data"
    }
   ],
   "source": [
    "df_all.area.hist(bins=100)"
   ]
  },
  {
   "cell_type": "code",
   "execution_count": 137,
   "id": "5a737b3b",
   "metadata": {},
   "outputs": [
    {
     "data": {
      "text/plain": [
       "3.0     1319\n",
       "2.0     1037\n",
       "4.0      560\n",
       "1.0      558\n",
       "2.5      135\n",
       "5.0      130\n",
       "3.5      128\n",
       "1.5       75\n",
       "4.5       48\n",
       "6.0       23\n",
       "7.0       15\n",
       "8.0        5\n",
       "5.5        3\n",
       "10.0       3\n",
       "Name: n_room, dtype: int64"
      ]
     },
     "execution_count": 137,
     "metadata": {},
     "output_type": "execute_result"
    }
   ],
   "source": [
    "df_all.n_room.value_counts()[:10]"
   ]
  },
  {
   "cell_type": "code",
   "execution_count": 138,
   "id": "3f74678e",
   "metadata": {},
   "outputs": [
    {
     "data": {
      "text/plain": [
       "SIS-Sparkassen-Immobilien-Service GmbH    139\n",
       "private                                   137\n",
       "Aigner Immobilien GmbH                     90\n",
       "Duken & v. Wangenheim                      88\n",
       "KWAG Neubau GmbH                           88\n",
       "PlanetHome Group GmbH                      71\n",
       "CITIGRUND Immobilien GmbH                  66\n",
       "Inseriert auf ohne-makler.net              66\n",
       "Walser Residential GmbH                    65\n",
       "DEMOS Wohnbau GmbH                         57\n",
       "Name: company, dtype: int64"
      ]
     },
     "execution_count": 138,
     "metadata": {},
     "output_type": "execute_result"
    }
   ],
   "source": [
    "df_all.company.value_counts()[:10]"
   ]
  },
  {
   "cell_type": "code",
   "execution_count": 139,
   "id": "87eb558e",
   "metadata": {},
   "outputs": [],
   "source": [
    "df_all[\"post_code\"] = df_all[\"std_address\"].apply(find_postcode)"
   ]
  },
  {
   "cell_type": "code",
   "execution_count": 140,
   "id": "292de778",
   "metadata": {
    "scrolled": true
   },
   "outputs": [
    {
     "data": {
      "text/plain": [
       "81827    143\n",
       "81245    140\n",
       "81249    133\n",
       "81925    111\n",
       "81545    110\n",
       "81735    105\n",
       "81927    103\n",
       "81479    102\n",
       "81247     99\n",
       "81379     82\n",
       "81825     78\n",
       "81541     77\n",
       "81241     74\n",
       "80992     72\n",
       "80687     72\n",
       "80636     71\n",
       "81549     69\n",
       "80797     68\n",
       "81369     66\n",
       "80469     66\n",
       "Name: post_code, dtype: int64"
      ]
     },
     "execution_count": 140,
     "metadata": {},
     "output_type": "execute_result"
    }
   ],
   "source": [
    "df_all.post_code.value_counts()[:20]"
   ]
  },
  {
   "cell_type": "code",
   "execution_count": null,
   "id": "db6d7bfd",
   "metadata": {},
   "outputs": [],
   "source": []
  },
  {
   "cell_type": "markdown",
   "id": "cb75aac0",
   "metadata": {},
   "source": [
    "###  Export rent samples"
   ]
  },
  {
   "cell_type": "code",
   "execution_count": 2,
   "id": "d266aa89",
   "metadata": {},
   "outputs": [],
   "source": [
    "df = pd.read_csv(\"data/immo24/rent/processed/data_20240118.csv\")\n",
    "df = df[~df.company.isin([\"Tauschwohnung GmbH\"])]"
   ]
  },
  {
   "cell_type": "code",
   "execution_count": 3,
   "id": "15ad65b3",
   "metadata": {},
   "outputs": [],
   "source": [
    "mask = (df.price_per_m2<20) & (df.warm_price<=1500) & (df.n_room>=1.5)"
   ]
  },
  {
   "cell_type": "code",
   "execution_count": 4,
   "id": "4b2a8424",
   "metadata": {},
   "outputs": [],
   "source": [
    "df[mask].to_excel(\"examples.xlsx\", index=False)"
   ]
  },
  {
   "cell_type": "code",
   "execution_count": null,
   "id": "39c53a35",
   "metadata": {},
   "outputs": [],
   "source": []
  },
  {
   "cell_type": "markdown",
   "id": "e4a313fa",
   "metadata": {},
   "source": [
    "### Export buy samples"
   ]
  },
  {
   "cell_type": "code",
   "execution_count": 2,
   "id": "071d0199",
   "metadata": {},
   "outputs": [],
   "source": [
    "import pandas as pd"
   ]
  },
  {
   "cell_type": "code",
   "execution_count": 3,
   "id": "650f84d6",
   "metadata": {},
   "outputs": [],
   "source": [
    "df = pd.read_csv(\"data/immo24/buy/processed/data_20240106.csv\")"
   ]
  },
  {
   "cell_type": "code",
   "execution_count": 5,
   "id": "eb062af7",
   "metadata": {},
   "outputs": [],
   "source": [
    "mask = (df.price_per_m2<8000) & (df.buy_price<=500_000) & (df.n_room>=1.5)"
   ]
  },
  {
   "cell_type": "code",
   "execution_count": 7,
   "id": "a987e6dd",
   "metadata": {},
   "outputs": [],
   "source": [
    "df[mask].to_excel(\"buy_examples.xlsx\", index=False)"
   ]
  },
  {
   "cell_type": "code",
   "execution_count": null,
   "id": "20914142",
   "metadata": {},
   "outputs": [],
   "source": []
  }
 ],
 "metadata": {
  "kernelspec": {
   "display_name": "py38",
   "language": "python",
   "name": "py38"
  },
  "language_info": {
   "codemirror_mode": {
    "name": "ipython",
    "version": 3
   },
   "file_extension": ".py",
   "mimetype": "text/x-python",
   "name": "python",
   "nbconvert_exporter": "python",
   "pygments_lexer": "ipython3",
   "version": "3.8.13"
  }
 },
 "nbformat": 4,
 "nbformat_minor": 5
}
