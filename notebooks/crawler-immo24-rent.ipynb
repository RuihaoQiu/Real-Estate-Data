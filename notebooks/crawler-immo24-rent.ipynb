{
 "cells": [
  {
   "cell_type": "code",
   "execution_count": 9,
   "id": "249c9194",
   "metadata": {},
   "outputs": [],
   "source": [
    "from ImmoRentScraper import ImmoRentScraper"
   ]
  },
  {
   "cell_type": "code",
   "execution_count": 10,
   "id": "57273379",
   "metadata": {},
   "outputs": [
    {
     "name": "stderr",
     "output_type": "stream",
     "text": [
      "18-Jan-24 20:27:10 - INFO - ====== WebDriver manager ======\n",
      "18-Jan-24 20:27:10 - INFO - Get LATEST chromedriver version for google-chrome\n",
      "18-Jan-24 20:27:10 - INFO - Get LATEST chromedriver version for google-chrome\n",
      "18-Jan-24 20:27:10 - INFO - Driver [/Users/ruihaoqiu/.wdm/drivers/chromedriver/mac64/120.0.6099.109/chromedriver-mac-x64/chromedriver] found in cache\n"
     ]
    }
   ],
   "source": [
    "url = 'https://www.immobilienscout24.de/Suche/de/bayern/muenchen/wohnung-mieten?enteredFrom=one_step_search'\n",
    "scraper = ImmoRentScraper(url=url)"
   ]
  },
  {
   "cell_type": "markdown",
   "id": "a0f7bfac",
   "metadata": {},
   "source": [
    "### Extract links"
   ]
  },
  {
   "cell_type": "code",
   "execution_count": 3,
   "id": "16dfbd19",
   "metadata": {},
   "outputs": [
    {
     "name": "stderr",
     "output_type": "stream",
     "text": [
      "100%|████████████████████████████████████████████████████████████████████████████████████████████| 6/6 [00:00<00:00, 904.59it/s]\n"
     ]
    }
   ],
   "source": [
    "## load history links\n",
    "\n",
    "history_links = scraper.load_history_links()"
   ]
  },
  {
   "cell_type": "code",
   "execution_count": 4,
   "id": "d9a67507",
   "metadata": {
    "scrolled": true
   },
   "outputs": [
    {
     "name": "stderr",
     "output_type": "stream",
     "text": [
      "18-Jan-24 17:46:49 - INFO - Current page: 1, Total pages:85, Number of Links: 64, Total links: 64\n",
      "18-Jan-24 17:46:52 - INFO - Current page: 2, Total pages:85, Number of Links: 36, Total links: 100\n",
      "18-Jan-24 17:46:54 - INFO - Current page: 3, Total pages:85, Number of Links: 20, Total links: 120\n",
      "18-Jan-24 17:46:57 - INFO - Current page: 4, Total pages:85, Number of Links: 23, Total links: 143\n",
      "18-Jan-24 17:47:00 - INFO - Current page: 5, Total pages:85, Number of Links: 20, Total links: 163\n",
      "18-Jan-24 17:47:02 - INFO - Current page: 6, Total pages:85, Number of Links: 20, Total links: 183\n",
      "18-Jan-24 17:47:05 - INFO - Current page: 7, Total pages:85, Number of Links: 20, Total links: 203\n",
      "18-Jan-24 17:47:07 - INFO - Current page: 8, Total pages:85, Number of Links: 20, Total links: 223\n",
      "18-Jan-24 17:47:10 - INFO - Current page: 9, Total pages:85, Number of Links: 20, Total links: 243\n",
      "18-Jan-24 17:47:12 - INFO - Current page: 10, Total pages:85, Number of Links: 20, Total links: 263\n",
      "18-Jan-24 17:47:14 - INFO - Current page: 11, Total pages:85, Number of Links: 18, Total links: 281\n",
      "18-Jan-24 17:47:17 - INFO - Current page: 12, Total pages:85, Number of Links: 18, Total links: 299\n",
      "18-Jan-24 17:47:19 - INFO - Current page: 13, Total pages:85, Number of Links: 19, Total links: 318\n",
      "18-Jan-24 17:47:22 - INFO - Current page: 14, Total pages:85, Number of Links: 19, Total links: 337\n",
      "18-Jan-24 17:47:24 - INFO - Current page: 15, Total pages:85, Number of Links: 25, Total links: 362\n",
      "18-Jan-24 17:47:27 - INFO - Current page: 16, Total pages:85, Number of Links: 20, Total links: 382\n",
      "18-Jan-24 17:47:29 - INFO - Current page: 17, Total pages:85, Number of Links: 20, Total links: 402\n",
      "18-Jan-24 17:47:32 - INFO - Current page: 18, Total pages:85, Number of Links: 20, Total links: 422\n",
      "18-Jan-24 17:47:34 - INFO - Current page: 19, Total pages:85, Number of Links: 19, Total links: 441\n",
      "18-Jan-24 17:47:37 - INFO - Current page: 20, Total pages:85, Number of Links: 18, Total links: 459\n",
      "18-Jan-24 17:47:40 - INFO - Current page: 21, Total pages:85, Number of Links: 24, Total links: 483\n",
      "18-Jan-24 17:47:43 - INFO - Current page: 22, Total pages:85, Number of Links: 20, Total links: 503\n",
      "18-Jan-24 17:47:45 - INFO - Current page: 23, Total pages:85, Number of Links: 20, Total links: 523\n",
      "18-Jan-24 17:47:48 - INFO - Current page: 24, Total pages:85, Number of Links: 20, Total links: 543\n",
      "18-Jan-24 17:47:50 - INFO - Current page: 25, Total pages:85, Number of Links: 22, Total links: 565\n",
      "18-Jan-24 17:47:52 - INFO - Current page: 26, Total pages:85, Number of Links: 19, Total links: 584\n",
      "18-Jan-24 17:47:55 - INFO - Current page: 27, Total pages:85, Number of Links: 19, Total links: 603\n",
      "18-Jan-24 17:47:57 - INFO - Current page: 28, Total pages:85, Number of Links: 29, Total links: 632\n",
      "18-Jan-24 17:48:00 - INFO - Current page: 29, Total pages:85, Number of Links: 20, Total links: 652\n",
      "18-Jan-24 17:48:03 - INFO - Current page: 30, Total pages:85, Number of Links: 20, Total links: 672\n",
      "18-Jan-24 17:48:05 - INFO - Current page: 31, Total pages:85, Number of Links: 20, Total links: 692\n",
      "18-Jan-24 17:48:07 - INFO - Current page: 32, Total pages:85, Number of Links: 19, Total links: 711\n",
      "18-Jan-24 17:48:10 - INFO - Current page: 33, Total pages:85, Number of Links: 18, Total links: 729\n",
      "18-Jan-24 17:48:12 - INFO - Current page: 34, Total pages:85, Number of Links: 20, Total links: 749\n",
      "18-Jan-24 17:48:14 - INFO - Current page: 35, Total pages:85, Number of Links: 20, Total links: 769\n",
      "18-Jan-24 17:48:17 - INFO - Current page: 36, Total pages:85, Number of Links: 20, Total links: 789\n",
      "18-Jan-24 17:48:19 - INFO - Current page: 37, Total pages:85, Number of Links: 20, Total links: 809\n",
      "18-Jan-24 17:48:22 - INFO - Current page: 38, Total pages:85, Number of Links: 20, Total links: 829\n",
      "18-Jan-24 17:48:24 - INFO - Current page: 39, Total pages:85, Number of Links: 20, Total links: 849\n",
      "18-Jan-24 17:48:26 - INFO - Current page: 40, Total pages:85, Number of Links: 20, Total links: 869\n",
      "18-Jan-24 17:48:29 - INFO - Current page: 41, Total pages:85, Number of Links: 19, Total links: 888\n",
      "18-Jan-24 17:48:31 - INFO - Current page: 42, Total pages:85, Number of Links: 18, Total links: 906\n",
      "18-Jan-24 17:48:34 - INFO - Current page: 43, Total pages:85, Number of Links: 19, Total links: 925\n",
      "18-Jan-24 17:48:36 - INFO - Current page: 44, Total pages:85, Number of Links: 24, Total links: 949\n",
      "18-Jan-24 17:48:39 - INFO - Current page: 45, Total pages:85, Number of Links: 20, Total links: 969\n",
      "18-Jan-24 17:48:41 - INFO - Current page: 46, Total pages:85, Number of Links: 20, Total links: 989\n",
      "18-Jan-24 17:48:44 - INFO - Current page: 47, Total pages:85, Number of Links: 20, Total links: 1009\n",
      "18-Jan-24 17:48:46 - INFO - Current page: 48, Total pages:85, Number of Links: 19, Total links: 1028\n",
      "18-Jan-24 17:48:49 - INFO - Current page: 49, Total pages:85, Number of Links: 20, Total links: 1048\n",
      "18-Jan-24 17:48:51 - INFO - Current page: 50, Total pages:85, Number of Links: 20, Total links: 1068\n",
      "18-Jan-24 17:48:54 - INFO - Current page: 51, Total pages:85, Number of Links: 22, Total links: 1090\n",
      "18-Jan-24 17:48:56 - INFO - Current page: 52, Total pages:85, Number of Links: 19, Total links: 1109\n",
      "18-Jan-24 17:49:00 - INFO - Current page: 53, Total pages:85, Number of Links: 22, Total links: 1131\n",
      "18-Jan-24 17:49:03 - INFO - Current page: 54, Total pages:85, Number of Links: 19, Total links: 1150\n",
      "18-Jan-24 17:49:06 - INFO - Current page: 55, Total pages:85, Number of Links: 20, Total links: 1170\n",
      "18-Jan-24 17:49:09 - INFO - Current page: 56, Total pages:85, Number of Links: 20, Total links: 1190\n",
      "18-Jan-24 17:49:12 - INFO - Current page: 57, Total pages:85, Number of Links: 23, Total links: 1213\n",
      "18-Jan-24 17:49:14 - INFO - Current page: 58, Total pages:85, Number of Links: 20, Total links: 1233\n",
      "18-Jan-24 17:49:16 - INFO - Current page: 59, Total pages:85, Number of Links: 20, Total links: 1253\n",
      "18-Jan-24 17:49:19 - INFO - Current page: 60, Total pages:85, Number of Links: 11, Total links: 1264\n",
      "18-Jan-24 17:49:21 - INFO - Current page: 61, Total pages:85, Number of Links: 0, Total links: 1264\n",
      "18-Jan-24 17:49:23 - INFO - Current page: 62, Total pages:85, Number of Links: 0, Total links: 1264\n",
      "18-Jan-24 17:49:25 - INFO - Current page: 63, Total pages:85, Number of Links: 0, Total links: 1264\n",
      "18-Jan-24 17:49:27 - INFO - Current page: 64, Total pages:85, Number of Links: 0, Total links: 1264\n",
      "18-Jan-24 17:49:30 - INFO - Current page: 65, Total pages:85, Number of Links: 0, Total links: 1264\n",
      "18-Jan-24 17:49:32 - INFO - Current page: 66, Total pages:85, Number of Links: 0, Total links: 1264\n",
      "18-Jan-24 17:49:34 - INFO - Current page: 67, Total pages:85, Number of Links: 0, Total links: 1264\n",
      "18-Jan-24 17:49:36 - INFO - Current page: 68, Total pages:85, Number of Links: 0, Total links: 1264\n",
      "18-Jan-24 17:49:38 - INFO - Current page: 69, Total pages:85, Number of Links: 0, Total links: 1264\n",
      "18-Jan-24 17:49:40 - INFO - Current page: 70, Total pages:85, Number of Links: 0, Total links: 1264\n",
      "18-Jan-24 17:49:42 - INFO - Current page: 71, Total pages:85, Number of Links: 0, Total links: 1264\n",
      "18-Jan-24 17:49:45 - INFO - Current page: 72, Total pages:85, Number of Links: 0, Total links: 1264\n",
      "18-Jan-24 17:49:47 - INFO - Current page: 73, Total pages:85, Number of Links: 0, Total links: 1264\n",
      "18-Jan-24 17:49:49 - INFO - Current page: 74, Total pages:85, Number of Links: 0, Total links: 1264\n",
      "18-Jan-24 17:49:51 - INFO - Current page: 75, Total pages:85, Number of Links: 0, Total links: 1264\n",
      "18-Jan-24 17:49:53 - INFO - Current page: 76, Total pages:85, Number of Links: 0, Total links: 1264\n",
      "18-Jan-24 17:49:55 - INFO - Current page: 77, Total pages:85, Number of Links: 2, Total links: 1266\n",
      "18-Jan-24 17:49:58 - INFO - Current page: 78, Total pages:85, Number of Links: 0, Total links: 1266\n",
      "18-Jan-24 17:50:00 - INFO - Current page: 79, Total pages:85, Number of Links: 0, Total links: 1266\n",
      "18-Jan-24 17:50:02 - INFO - Current page: 80, Total pages:85, Number of Links: 0, Total links: 1266\n",
      "18-Jan-24 17:50:04 - INFO - Current page: 81, Total pages:85, Number of Links: 0, Total links: 1266\n",
      "18-Jan-24 17:50:06 - INFO - Current page: 82, Total pages:85, Number of Links: 0, Total links: 1266\n"
     ]
    },
    {
     "name": "stderr",
     "output_type": "stream",
     "text": [
      "18-Jan-24 17:50:08 - INFO - Current page: 83, Total pages:85, Number of Links: 0, Total links: 1266\n",
      "18-Jan-24 17:50:11 - INFO - Current page: 84, Total pages:85, Number of Links: 0, Total links: 1266\n",
      "18-Jan-24 17:50:14 - INFO - Current page: 85, Total pages:85, Number of Links: 32, Total links: 1298\n"
     ]
    }
   ],
   "source": [
    "scraper.extract_all_links()"
   ]
  },
  {
   "cell_type": "code",
   "execution_count": 5,
   "id": "fa8e9bed",
   "metadata": {},
   "outputs": [],
   "source": [
    "new_links = list(set(scraper.links) - set(history_links))"
   ]
  },
  {
   "cell_type": "code",
   "execution_count": 6,
   "id": "9a61c4b0",
   "metadata": {},
   "outputs": [],
   "source": [
    "scraper.save_new_links(new_links)"
   ]
  },
  {
   "cell_type": "markdown",
   "id": "71cba395",
   "metadata": {},
   "source": [
    "### Extract data"
   ]
  },
  {
   "cell_type": "code",
   "execution_count": 13,
   "id": "83e43e71",
   "metadata": {},
   "outputs": [],
   "source": [
    "## Crawl data\n",
    "# new_links = scraper.load_links(\"data/immo24/rent/links/links_20231211.json\")"
   ]
  },
  {
   "cell_type": "code",
   "execution_count": 12,
   "id": "29a0361b",
   "metadata": {},
   "outputs": [
    {
     "name": "stderr",
     "output_type": "stream",
     "text": [
      " 28%|████████████████████████▏                                                              | 185/665 [25:31<1:08:44,  8.59s/it]18-Jan-24 20:53:18 - INFO - Could not extract data from: https://www.immobilienscout24.de/expose/148367055\n",
      " 65%|█████████████████████████████████████████████████████████▌                               | 430/665 [59:34<33:54,  8.66s/it]18-Jan-24 21:27:23 - INFO - Could not extract data from: https://www.immobilienscout24.de/expose/113582552\n",
      " 90%|██████████████████████████████████████████████████████████████████████████████▏        | 598/665 [1:21:31<08:52,  7.95s/it]18-Jan-24 21:49:18 - INFO - Could not extract data from: https://www.immobilienscout24.de/expose/148367886\n",
      " 94%|█████████████████████████████████████████████████████████████████████████████████▉     | 626/665 [1:25:55<04:45,  7.33s/it]18-Jan-24 21:53:43 - INFO - Could not extract data from: https://www.immobilienscout24.de/expose/148367887\n",
      "100%|██████████████████████████████████████████████████████████████████████████████████████▊| 664/665 [1:31:32<00:07,  7.79s/it]18-Jan-24 21:59:20 - INFO - Could not extract data from: https://www.immobilienscout24.de/expose/148368540\n",
      "100%|███████████████████████████████████████████████████████████████████████████████████████| 665/665 [1:32:33<00:00,  8.35s/it]\n"
     ]
    }
   ],
   "source": [
    "scraper.extract_all_data(new_links)"
   ]
  },
  {
   "cell_type": "code",
   "execution_count": 13,
   "id": "1d3df62c",
   "metadata": {},
   "outputs": [],
   "source": [
    "scraper.save_new_data()"
   ]
  },
  {
   "cell_type": "code",
   "execution_count": null,
   "id": "9c3e2ecc",
   "metadata": {},
   "outputs": [],
   "source": []
  }
 ],
 "metadata": {
  "kernelspec": {
   "display_name": "py38",
   "language": "python",
   "name": "py38"
  },
  "language_info": {
   "codemirror_mode": {
    "name": "ipython",
    "version": 3
   },
   "file_extension": ".py",
   "mimetype": "text/x-python",
   "name": "python",
   "nbconvert_exporter": "python",
   "pygments_lexer": "ipython3",
   "version": "3.8.13"
  }
 },
 "nbformat": 4,
 "nbformat_minor": 5
}
