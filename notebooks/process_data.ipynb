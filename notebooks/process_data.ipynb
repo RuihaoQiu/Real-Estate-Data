{
 "cells": [
  {
   "cell_type": "code",
   "execution_count": 1,
   "id": "913c5388",
   "metadata": {},
   "outputs": [],
   "source": [
    "import pandas as pd\n",
    "import re\n",
    "\n",
    "import matplotlib.pyplot as plt\n",
    "from datetime import datetime\n",
    "\n",
    "from DataProcessor import *"
   ]
  },
  {
   "cell_type": "markdown",
   "id": "8856a04b",
   "metadata": {},
   "source": [
    "### Rent"
   ]
  },
  {
   "cell_type": "code",
   "execution_count": 2,
   "id": "d2c5901d",
   "metadata": {},
   "outputs": [],
   "source": [
    "date = 20240118\n",
    "raw_input_path = f\"data/immo24/rent/raw/data_{str(date)}.csv\"\n",
    "processed_output_path = f\"data/immo24/rent/processed/data_{str(date)}.csv\""
   ]
  },
  {
   "cell_type": "code",
   "execution_count": 3,
   "id": "389b7a7d",
   "metadata": {},
   "outputs": [],
   "source": [
    "selected_columns = [\n",
    "       'url', 'company', 'type', 'title',\n",
    "       'std_address', 'area', 'n_room', 'n_bedroom', 'n_washroom', 'cold_rent',\n",
    "       'price_per_m2', 'extra_cost', 'heater_cost', 'warm_price', 'deposit',\n",
    "       'garage_price', 'from_date', 'year_of_house', 'year_of_energy'\n",
    "]"
   ]
  },
  {
   "cell_type": "code",
   "execution_count": 4,
   "id": "5d0fbb16",
   "metadata": {},
   "outputs": [],
   "source": [
    "df = pd.read_csv(raw_input_path)\n",
    "\n",
    "df[\"url\"] = df[\"URL\"].copy()\n",
    "df[\"company\"] = df[\"Company\"].copy()\n",
    "df[\"type\"] = df[\"Typ\"].copy()\n",
    "df[\"title\"] = df[\"Title\"].copy()\n",
    "\n",
    "df[\"std_address\"] = df[\"Address\"].apply(process_address)\n",
    "df[\"area\"] = df[\"Wohnfläche ca.\"].apply(process_area)\n",
    "df[\"n_room\"] = df[\"Zimmer\"].apply(process_room)\n",
    "df[\"n_bedroom\"] = df[\"Schlafzimmer\"].apply(process_room)\n",
    "df[\"n_washroom\"] = df[\"Badezimmer\"].apply(process_room)\n",
    "\n",
    "df[\"cold_rent\"] = df[\"Kaltmiete\"].apply(find_price)\n",
    "df[\"price_per_m2\"] = df[\"Preis/m²\"].apply(find_price)\n",
    "df[\"extra_cost\"] = df[\"Nebenkosten\"].apply(find_price)\n",
    "df[\"heater_cost\"] = df[\"Heizkosten\"].apply(find_price)\n",
    "df[\"warm_price\"] = df[\"Gesamtmiete\"].apply(find_price)\n",
    "df[\"deposit\"] = df[\"Kaution o. Genossenschafts­anteile\"].apply(find_price)\n",
    "df[\"garage_price\"] = df[\"Miete für Garage/Stellplatz\"].apply(find_price)\n",
    "\n",
    "df[\"from_date\"] = df[\"Bezugsfrei ab\"].apply(find_date)\n",
    "df[\"year_of_house\"] = df[\"Baujahr\"].apply(find_year)\n",
    "df[\"year_of_energy\"] = df[\"Baujahr laut Energieausweis\"].apply(find_year)"
   ]
  },
  {
   "cell_type": "code",
   "execution_count": 5,
   "id": "b888e71a",
   "metadata": {},
   "outputs": [],
   "source": [
    "df[selected_columns].to_csv(processed_output_path, index=False)"
   ]
  },
  {
   "cell_type": "code",
   "execution_count": null,
   "id": "f7b4ef22",
   "metadata": {},
   "outputs": [],
   "source": []
  },
  {
   "cell_type": "code",
   "execution_count": null,
   "id": "2b842f34",
   "metadata": {},
   "outputs": [],
   "source": []
  },
  {
   "cell_type": "markdown",
   "id": "dd733f9e",
   "metadata": {},
   "source": [
    "### Buy"
   ]
  },
  {
   "cell_type": "code",
   "execution_count": 2,
   "id": "59e4c17d",
   "metadata": {},
   "outputs": [],
   "source": [
    "date = 20240106\n",
    "raw_input_path = f\"data/immo24/buy/raw/data_{str(date)}.csv\"\n",
    "processed_output_path = f\"data/immo24/buy/processed/data_{str(date)}.csv\""
   ]
  },
  {
   "cell_type": "code",
   "execution_count": 3,
   "id": "695dd610",
   "metadata": {},
   "outputs": [],
   "source": [
    "selected_columns = [\n",
    "    'url', 'company', 'type', 'title', 'energy_level',\n",
    "       'energy_consumption_kWh/(m²*a)', 'std_address', 'area', 'n_room',\n",
    "       'n_bedroom', 'n_washroom', 'buy_price', 'price_per_m2', 'provision',\n",
    "       'rent_price', 'maintenance_costs', 'garage_price', 'from_date',\n",
    "       'year_of_house', 'year_of_energy'\n",
    "]"
   ]
  },
  {
   "cell_type": "code",
   "execution_count": 4,
   "id": "7524379f",
   "metadata": {},
   "outputs": [],
   "source": [
    "df = pd.read_csv(raw_input_path)"
   ]
  },
  {
   "cell_type": "code",
   "execution_count": 5,
   "id": "89de30f4",
   "metadata": {},
   "outputs": [],
   "source": [
    "df[\"url\"] = df[\"URL\"].copy()\n",
    "df[\"company\"] = df[\"Company\"].copy()\n",
    "df[\"type\"] = df[\"Typ\"].copy()\n",
    "df[\"title\"] = df[\"Title\"].copy()\n",
    "\n",
    "df[\"energy_level\"] = df[\"Energie­effizienz­klasse\"].copy()\n",
    "df[\"energy_consumption_kWh/(m²*a)\"] = df[\"End­energie­verbrauch\"].apply(find_price)\n",
    "\n",
    "df[\"std_address\"] = df[\"Address\"].apply(process_address)\n",
    "df[\"area\"] = df[\"Wohnfläche ca.\"].apply(process_area)\n",
    "df[\"n_room\"] = df[\"Zimmer\"].apply(process_room)\n",
    "df[\"n_bedroom\"] = df[\"Schlafzimmer\"].apply(process_room)\n",
    "df[\"n_washroom\"] = df[\"Badezimmer\"].apply(process_room)\n",
    "\n",
    "df[\"buy_price\"] = df[\"Kaufpreis\"].apply(find_price)\n",
    "df[\"price_per_m2\"] = df[\"Preis/m²\"].apply(find_price)\n",
    "df[\"provision\"] = df[\"Provision für Käufer\"].apply(find_price)\n",
    "df[\"rent_price\"] = df[\"Mieteinnahmen pro Monat\"].apply(find_price)\n",
    "df[\"maintenance_costs\"] = df[\"Hausgeld\"].apply(find_price)\n",
    "df[\"garage_price\"] = df[\"Garage/ Stellplatz-Kaufpreis\"].apply(find_price)\n",
    "\n",
    "df[\"from_date\"] = df[\"Bezugsfrei ab\"].apply(find_date)\n",
    "df[\"year_of_house\"] = df[\"Baujahr\"].apply(find_year)\n",
    "df[\"year_of_energy\"] = df[\"Baujahr laut Energieausweis\"].apply(find_year)"
   ]
  },
  {
   "cell_type": "code",
   "execution_count": 6,
   "id": "59c7a66c",
   "metadata": {},
   "outputs": [],
   "source": [
    "df[selected_columns].to_csv(processed_output_path, index=False)"
   ]
  },
  {
   "cell_type": "code",
   "execution_count": null,
   "id": "627b8476",
   "metadata": {},
   "outputs": [],
   "source": []
  }
 ],
 "metadata": {
  "kernelspec": {
   "display_name": "py38",
   "language": "python",
   "name": "py38"
  },
  "language_info": {
   "codemirror_mode": {
    "name": "ipython",
    "version": 3
   },
   "file_extension": ".py",
   "mimetype": "text/x-python",
   "name": "python",
   "nbconvert_exporter": "python",
   "pygments_lexer": "ipython3",
   "version": "3.8.13"
  }
 },
 "nbformat": 4,
 "nbformat_minor": 5
}
